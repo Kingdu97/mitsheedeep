{
 "cells": [
  {
   "cell_type": "markdown",
   "id": "6adac504",
   "metadata": {},
   "source": [
    "앞장에서 가중치 매개변수의 기울기는 수치미분을 사용했지만, 이는 시간이 오래걸린다는게 단점!    \n",
    "\n",
    "이번장에서는 가중치 매개변수의 기울기를 효율적으로 계산하는 '오차역전파법'을 배운다."
   ]
  },
  {
   "cell_type": "markdown",
   "id": "78bfb622",
   "metadata": {},
   "source": [
    "# 5. 오차역전파법"
   ]
  },
  {
   "cell_type": "markdown",
   "id": "20cb2466",
   "metadata": {},
   "source": [
    "# 5.1.1 계산 그래프로 풀다\n",
    "\n",
    "문제1 : 슈퍼에서 1개 100원인 사과를 2개 사고 소비세가 10%일 때, 지불 금액은?\n",
    "  \n",
    "100 * 2 * 1.1 = 220\n",
    "       200\n",
    "100 → × →  × → 220\n",
    "2   ↗     ↗\n",
    "       1.1\n",
    " \n",
    "문제2 : 슈퍼에서 1개 100원인 사과를 2개 사고 150원인 귤을 3개 샀다. 소비세가 10%일 때, 지불 금액은?\n",
    "((100 * 2) + (150 * 3)) * 1.1 = 715\n",
    "3   ↘\n",
    "150 → × ↘\n",
    "100 → × →  + → × → 715\n",
    "2   ↗          ↗\n",
    "           1.1\n",
    "순전파forward propagation : 계산을 왼쪽에서 오른쪽으로 진행\n",
    "역전파backward propagation : 계산을 반대 방향으로 진행. 미분을 효율적으로 계산할 수 있다.\n",
    "\"\"\""
   ]
  },
  {
   "cell_type": "markdown",
   "id": "91902041",
   "metadata": {},
   "source": [
    "## 곱셈계층\n",
    "\n",
    "모든 계층은 forward와 backward라는 공통의 메서드(인터페이스)를 갖도록 구현할 것이다.  \n",
    "forward : 순전파\n",
    "backward : 역전파"
   ]
  },
  {
   "cell_type": "code",
   "execution_count": 3,
   "id": "799a43e0",
   "metadata": {},
   "outputs": [],
   "source": [
    "class MulLayer: # 곱셈 노드\n",
    "    def __init__(self):   # x와 y를 초기화 한다.\n",
    "        self.x = None\n",
    "        self.y = None\n",
    "\n",
    "    def forward(self, x, y):\n",
    "        self.x = x\n",
    "        self.y = y\n",
    "        out = x * y\n",
    "        return out\n",
    "\n",
    "    def backward(self, dout):    # dout : 미분. 순전파때의 값을 서로 바꿔 곱한 후 하류로 흘린다.\n",
    "        dx = dout * self.y\n",
    "        dy = dout * self.x\n",
    "        return dx, dy"
   ]
  },
  {
   "cell_type": "markdown",
   "id": "d2bb5491",
   "metadata": {},
   "source": [
    "### 문제1 순전파"
   ]
  },
  {
   "cell_type": "code",
   "execution_count": 6,
   "id": "8813eefc",
   "metadata": {},
   "outputs": [
    {
     "name": "stdout",
     "output_type": "stream",
     "text": [
      "220.00000000000003\n"
     ]
    }
   ],
   "source": [
    " # 문제1의 예시\n",
    "apple = 100\n",
    "apple_num = 2\n",
    "tax = 1.1\n",
    "\n",
    "    # 계층들\n",
    "mul_apple_layer = MulLayer()\n",
    "mul_tax_layer = MulLayer()\n",
    "\n",
    "    # 순전파\n",
    "apple_price = mul_apple_layer.forward(apple, apple_num)  # mullayger라는 곱셈 노드에서 forward라는 메서드를 갖음\n",
    "price = mul_tax_layer.forward(apple_price, tax)\n",
    "\n",
    "print(price)  # 220.0"
   ]
  },
  {
   "cell_type": "markdown",
   "id": "d82be874",
   "metadata": {},
   "source": [
    "### 문제1 역전파"
   ]
  },
  {
   "cell_type": "code",
   "execution_count": 9,
   "id": "c30c4065",
   "metadata": {},
   "outputs": [
    {
     "name": "stdout",
     "output_type": "stream",
     "text": [
      "2.2 110.00000000000001 200\n"
     ]
    }
   ],
   "source": [
    "    # 역전파\n",
    "dprice = 1\n",
    "dapple_price, dtax = mul_tax_layer.backward(dprice)\n",
    "dapple, dapple_num = mul_apple_layer.backward(dapple_price)\n",
    "\n",
    "print(dapple, dapple_num, dtax)  # 2.2 110.0 200"
   ]
  },
  {
   "cell_type": "markdown",
   "id": "8fd2224f",
   "metadata": {},
   "source": [
    "## 덧셈계층"
   ]
  },
  {
   "cell_type": "code",
   "execution_count": 11,
   "id": "642748c0",
   "metadata": {},
   "outputs": [],
   "source": [
    "# 5.4.2 덧셈 계층\n",
    "class AddLayer:\n",
    "    def __init__(self):\n",
    "        pass\n",
    "\n",
    "    def forward(self, x, y):\n",
    "        out = x + y\n",
    "        return out\n",
    "\n",
    "    def backward(self, dout):\n",
    "        dx = dout * 1\n",
    "        dy = dout * 1\n",
    "        return dx, dy\n"
   ]
  },
  {
   "cell_type": "markdown",
   "id": "0426cc41",
   "metadata": {},
   "source": [
    "문제 2 순전파"
   ]
  },
  {
   "cell_type": "code",
   "execution_count": 12,
   "id": "c3c6f699",
   "metadata": {},
   "outputs": [],
   "source": [
    "orange = 150\n",
    "orange_num = 3\n",
    "\n",
    "    # 계층들\n",
    "mul_apple_layer = MulLayer()\n",
    "mul_orange_layer = MulLayer()\n",
    "add_apple_orange_layer = AddLayer()\n",
    "mul_tax_layer = MulLayer()"
   ]
  },
  {
   "cell_type": "code",
   "execution_count": 14,
   "id": "344dfa8d",
   "metadata": {},
   "outputs": [
    {
     "name": "stdout",
     "output_type": "stream",
     "text": [
      "715.0000000000001\n"
     ]
    }
   ],
   "source": [
    "apple_price = mul_apple_layer.forward(apple, apple_num)\n",
    "orange_price = mul_orange_layer.forward(orange, orange_num)\n",
    "all_price = add_apple_orange_layer.forward(apple_price, orange_price)\n",
    "price = mul_tax_layer.forward(all_price, tax) \n",
    "print(price)  # 715.0"
   ]
  },
  {
   "cell_type": "code",
   "execution_count": 15,
   "id": "13758a20",
   "metadata": {},
   "outputs": [
    {
     "name": "stdout",
     "output_type": "stream",
     "text": [
      "110.00000000000001 2.2 3.3000000000000003 165.0 650\n"
     ]
    }
   ],
   "source": [
    "# 역전파\n",
    "dprice = 1\n",
    "dall_price, dtax = mul_tax_layer.backward(dprice)\n",
    "dapple_price, dorange_price = add_apple_orange_layer.backward(dall_price)\n",
    "dornage, dorange_num = mul_orange_layer.backward(dorange_price)\n",
    "dapple, dapple_num = mul_apple_layer.backward(dapple_price)\n",
    "\n",
    "print(dapple_num, dapple, dornage, dorange_num, dtax)\n",
    "    # 110.0 2.2 3.3 165.0 650"
   ]
  },
  {
   "cell_type": "markdown",
   "id": "9cc294c7",
   "metadata": {},
   "source": [
    "## Relu 함수와 시그모이드 함수"
   ]
  },
  {
   "cell_type": "code",
   "execution_count": 16,
   "id": "ab0c8fea",
   "metadata": {},
   "outputs": [],
   "source": [
    "import numpy as np\n",
    "\n",
    "# 5.5.1 ReLU 계층\n",
    "\n",
    "class Relu:\n",
    "    def __init__(self):\n",
    "        self.mask = None\n",
    "\n",
    "    def forward(self, x):\n",
    "        self.mask = (x <= 0)\n",
    "        out = x.copy()\n",
    "        out[self.mask] = 0\n",
    "\n",
    "        return out\n",
    "\n",
    "    def backward(self, dout):\n",
    "        dout[self.mask] = 0\n",
    "        dx = dout\n",
    "\n",
    "        return dx"
   ]
  },
  {
   "cell_type": "code",
   "execution_count": 17,
   "id": "73c5e43a",
   "metadata": {},
   "outputs": [],
   "source": [
    "# 5.5.2 Sigmoid 계층\n",
    "\n",
    "class Sigmoid:\n",
    "    def __init__(self):\n",
    "        self.out = None\n",
    "\n",
    "    def forward(self, x):\n",
    "        out = 1 / (1 + np.exp(-x))\n",
    "        self.out = out\n",
    "\n",
    "        return out\n",
    "\n",
    "    def backward(self, dout):\n",
    "        dx = dout * (1.0 - self.out) * self.out\n",
    "\n",
    "        return dx\n"
   ]
  },
  {
   "cell_type": "markdown",
   "id": "b89a256a",
   "metadata": {},
   "source": [
    "## 5.6 Affine/Softmax 계층 구현하기"
   ]
  },
  {
   "cell_type": "markdown",
   "id": "70f39ad6",
   "metadata": {},
   "source": [
    "### Affine\n",
    "신경망의 순전파 때 수행하는 행령의 곱은 기하학에서는 '어파인 변환'이라고 하는데, 어파인 변환을 수행하는 처리를 '어파인 계층'이라는 이름으로 구현한다."
   ]
  },
  {
   "cell_type": "markdown",
   "id": "f0e8f297",
   "metadata": {},
   "source": [
    "\"\"\"\n",
    "Affine 계층의 계산 그래프\n",
    "X, W, B는 행렬(다차원 배열)\n",
    "\n",
    "1. ∂L/∂X = ∂L/∂Y·W^T\n",
    "   (2,)    (3,)  (3,2)\n",
    "2. ∂L/∂W = X^T·∂L/∂Y\n",
    "   (2,3)  (2,1)(1,3)\n",
    "3. ∂L/∂B = ∂L/∂Y\n",
    "   (3,)    (3,)\n",
    "W^T : W의 전치행렬(W가 (2,3)이라면 W^T는(3,2)가 된다.\n",
    "X = (x0, x1, x2, ..., xn)\n",
    "∂L/∂X = (∂L/∂x0, ∂L/∂x1, ∂L/∂x2, ..., ∂L/∂xn)   \n",
    "따라서 X와 ∂L/∂X의 형상은 같다.\n",
    "\"\"\"\n"
   ]
  },
  {
   "cell_type": "markdown",
   "id": "688a9499",
   "metadata": {},
   "source": [
    "\"\"\"\n",
    "입력 데이터로 X 하나만이 아니라 데이터 N개를 묶어 순전파하는 배치용 계층을 생각\n",
    "배치용 Affine 계층의 계산 그래프\n",
    "X의 형상이 (N,2)가 됨.\n",
    "1. ∂L/∂X = ∂L/∂Y·W^T  \n",
    "   (N,2)   (N,3) (3,2)  \n",
    "2. ∂L/∂W = X^T·∂L/∂Y  \n",
    "   (2,3)  (2,N)(N,3)  \n",
    "3. ∂L/∂B = ∂L/∂Y의 첫 번째 축(0축, 열방향)의 합.  \n",
    "   (3,)    (N,3)    \n",
    "편향을 더할 때에 주의해야 한다. 순전파 때의 편향 덧셈은 X·W에 대한 편향이  \n",
    "각 데이터에 더해진다. 예를 들어 N=2일 경우 편향은 두 데이터 각각에 더해진다.\n",
    "\"\"\""
   ]
  },
  {
   "cell_type": "code",
   "execution_count": 22,
   "id": "ed9910a4",
   "metadata": {},
   "outputs": [],
   "source": [
    "class Affine:\n",
    "    def __init__(self, W, b):\n",
    "        self.W = W\n",
    "        self.b = b\n",
    "        self.x = None\n",
    "        self.dW = None\n",
    "        self.db = None\n",
    "\n",
    "    def forward(self, x):\n",
    "        self.x = x\n",
    "        out = np.dot(x, self.W) + self.b\n",
    "\n",
    "        return out\n",
    "\n",
    "    def backward(self, dout):\n",
    "        dx = np.dot(dout, self.W.T)\n",
    "        self.dW = np.dot(self.x.T, dout)\n",
    "        self.db = np.sum(dout, axis=0)\n",
    "\n",
    "        return dx"
   ]
  },
  {
   "cell_type": "markdown",
   "id": "78a472d9",
   "metadata": {},
   "source": [
    "### 5.6.3 Softmax-with-Loss 계층\n",
    "소프트맥스 계층 : 입력 값을 정규화(출력의 합이 1이 되도록 변경)하여 출력 : 출력층에서 하용하는 함수!!\n",
    "학습과 추론 중 학습에서 주로 사용  \n",
    "소프트맥스 계층과 손실 함수(교차 엔트로피 오차)를 포함해 계산 그래프를 그림  \n"
   ]
  },
  {
   "cell_type": "markdown",
   "id": "25c71704",
   "metadata": {},
   "source": [
    "![](.\\png.png)"
   ]
  },
  {
   "cell_type": "markdown",
   "id": "de39d10e",
   "metadata": {},
   "source": [
    "cf. 신경망에서 수행하는 작업은 학습과 추론(inference) 두 가지이다. 추론할때는 일반적으로 softmax 계층을 사용하지 않는다.   \n",
    "예컨데 신경망을 추론할때는 위 그래프에서 Affine 계층의 출력을 인식 결과로 이용을 많이한다.  \n",
    "Affine 은 점수(score)라 하고,  \n",
    "추론이면 : 답을 하나만 내는 경우에 가장 높은 점수만 알면 되니 Softmax  계층은 필요가 없고,  \n",
    "학습이면 : Softmax  계층은 필요하다."
   ]
  },
  {
   "cell_type": "code",
   "execution_count": 1,
   "id": "0b9d487a",
   "metadata": {},
   "outputs": [],
   "source": [
    "class SoftmaxWithLoss:\n",
    "    def __init__(self):\n",
    "        self.loss = None  # 손실\n",
    "        self.y = None     # softmax의 출력\n",
    "        self.t = None     # 정답 레이블(원-핫 벡터)\n",
    "\n",
    "    def forward(self, x, t):\n",
    "        self.t = t\n",
    "        self.y = softmax(x)  # 3.5.2, 4.2.2에서 구현\n",
    "        self.loss = cross_entropy_error(self.y, self.t)\n",
    "\n",
    "        return self.loss\n",
    "\n",
    "    def backward(self, dout=1):\n",
    "        batch_size = self.t.shape[0]\n",
    "        dx = self.y - self.t / batch_size\n",
    "\n",
    "        return dx\n"
   ]
  },
  {
   "cell_type": "markdown",
   "id": "bad585f2",
   "metadata": {},
   "source": [
    "cf. 엔트로피가 크다는것은 사건의 확률이 낮다는것. \"어떤 상태에서의 불확실성\"ㅡ  \n",
    "오차 제곱(SE) 시리즈와의 차이점은, 오차제곱 시리즈는 회귀식처럼 값의 흩어진 정도를 출력한다면    \n",
    "교차 엔트로피 오차는 정답 레이블에서 정답에 해당하는 위치의 확률의 로그값이 출력되게 된다."
   ]
  },
  {
   "cell_type": "markdown",
   "id": "a8a9ddcc",
   "metadata": {},
   "source": [
    "## 5.7 오차역전파법 구현하기\n",
    "신셩망의 구성요소를 모듈화하여 계층으로만 구현했기 때문에 구축이 쉬원진다!"
   ]
  },
  {
   "cell_type": "code",
   "execution_count": 1,
   "id": "7e9e4db3",
   "metadata": {},
   "outputs": [],
   "source": [
    "import sys\n",
    "import os\n",
    "import numpy as np\n",
    "from collections import OrderedDict\n",
    "sys.path.append(os.pardir)\n",
    "from common.layers import *\n",
    "from common.gradient import numerical_gradient\n"
   ]
  },
  {
   "cell_type": "code",
   "execution_count": 6,
   "id": "803ca914",
   "metadata": {},
   "outputs": [],
   "source": [
    "class TwoLayerNet:\n",
    "    def __init__(self, input_size, hidden_size, output_size,\n",
    "        weight_init_std=0.01):\n",
    "        # 가중치 초기화\n",
    "        self.params = {}\n",
    "        self.params['W1'] = weight_init_std * \\\n",
    "            np.random.randn(input_size, hidden_size)\n",
    "        self.params['b1'] = np.zeros(hidden_size)\n",
    "        self.params['W2'] = weight_init_std * \\\n",
    "            np.random.randn(hidden_size, output_size)\n",
    "        self.params['b2'] = np.zeros(output_size)\n",
    "\n",
    "        # 계층 생성\n",
    "        self.layers = OrderedDict()\n",
    "        self.layers['Affine1'] = \\\n",
    "            Affine(self.params['W1'], self.params['b1'])\n",
    "        self.layers['Relu1'] = Relu()\n",
    "        self.layers['Affine2'] = \\\n",
    "            Affine(self.params['W2'], self.params['b2'])\n",
    "        self.lastLayer = SoftmaxWithLoss()    # 마지막 층은 소프트맥스위드로스!!\n",
    "\n",
    "    def predict(self, x):\n",
    "        for layer in self.layers.values():\n",
    "            x = layer.forward(x)\n",
    "\n",
    "        return x\n",
    "        # x : 입력 데이터, t : 정답 레이블\n",
    "    def loss(self, x, t):\n",
    "        y = self.predict(x)\n",
    "        return self.lastLayer.forward(y, t)\n",
    "\n",
    "    def accuracy(self, x, t):\n",
    "        y = self.predict(x)\n",
    "        y = np.argmax(y, axis=1)\n",
    "        if t.ndim != 1:\n",
    "            t = np.argmax(t, axis=1)\n",
    "\n",
    "        accuracy = np.sum(y == t) / float(x.shape[0])\n",
    "        return accuracy\n",
    "\n",
    "    def numerical_gradient(self, x, t):\n",
    "        loss_W = lambda W: self.loss(x, t)\n",
    "\n",
    "        grads = {}\n",
    "        grads['W1'] = numerical_gradient(loss_W, self.params['W1'])\n",
    "        grads['b1'] = numerical_gradient(loss_W, self.params['b1'])\n",
    "        grads['W2'] = numerical_gradient(loss_W, self.params['W2'])\n",
    "        grads['b2'] = numerical_gradient(loss_W, self.params['b2'])\n",
    "\n",
    "        return grads\n",
    "\n",
    "    def gradient(self, x, t):\n",
    "        # 순전파\n",
    "        self.loss(x, t)\n",
    "\n",
    "        # 역전파\n",
    "        dout = 1\n",
    "        dout = self.lastLayer.backward(dout)\n",
    "\n",
    "        layers = list(self.layers.values())\n",
    "        layers.reverse()\n",
    "        for layer in layers:\n",
    "            dout = layer.backward(dout)\n",
    "\n",
    "        # 결과 저장\n",
    "        grads = {}\n",
    "        grads['W1'] = self.layers['Affine1'].dW\n",
    "        grads['b1'] = self.layers['Affine1'].db\n",
    "        grads['W2'] = self.layers['Affine2'].dW\n",
    "        grads['b2'] = self.layers['Affine2'].db\n",
    "\n",
    "        return grads\n",
    "\n",
    "\n"
   ]
  },
  {
   "cell_type": "markdown",
   "id": "cd50ea47",
   "metadata": {},
   "source": [
    "신경망의 계층을 순서가 있는 딕셔너리에서 보관,\n",
    "따라서 순전파때는 추가한 순서대로 각 계층의 forward()를 호출하기만 하면 된다.\n",
    "역전파때는 계층을 반대 순서로 호출하기만 하면 된다.\n",
    "신경망의 구성 요소를 모듈화하여 계층으로 구현했기 때문에 구축이 쉬워진다."
   ]
  },
  {
   "cell_type": "markdown",
   "id": "54522ca5",
   "metadata": {},
   "source": [
    "### 5.7.3 오차역전파법으로 구한 기울기 검증하기"
   ]
  },
  {
   "cell_type": "markdown",
   "id": "be6c1b48",
   "metadata": {},
   "source": [
    "\n",
    "기울기를 구하는데는 두 가지 방법이 있다.\n",
    "1. 수치 미분 : 느리다. 구현이 쉽다.\n",
    "2. 해석적으로 수식을 풀기(오차 역전파법) : 빠르지만 실수가 있을 수 있다.  \n",
    "두 기울기 결과를 비교해서 오차역전파법을 제대로 구현했는지 검증한다.\n",
    "이 작업을 기울기 확인gradient check라고 한다.\n"
   ]
  },
  {
   "cell_type": "code",
   "execution_count": null,
   "id": "888f49af",
   "metadata": {},
   "outputs": [],
   "source": []
  },
  {
   "cell_type": "code",
   "execution_count": null,
   "id": "fe8643c0",
   "metadata": {},
   "outputs": [],
   "source": []
  },
  {
   "cell_type": "code",
   "execution_count": null,
   "id": "39c4038d",
   "metadata": {},
   "outputs": [],
   "source": []
  },
  {
   "cell_type": "code",
   "execution_count": null,
   "id": "78ff8156",
   "metadata": {},
   "outputs": [],
   "source": []
  },
  {
   "cell_type": "code",
   "execution_count": null,
   "id": "0f9a0044",
   "metadata": {},
   "outputs": [],
   "source": []
  },
  {
   "cell_type": "code",
   "execution_count": null,
   "id": "fa17170d",
   "metadata": {},
   "outputs": [],
   "source": []
  }
 ],
 "metadata": {
  "kernelspec": {
   "display_name": "Python 3 (ipykernel)",
   "language": "python",
   "name": "python3"
  },
  "language_info": {
   "codemirror_mode": {
    "name": "ipython",
    "version": 3
   },
   "file_extension": ".py",
   "mimetype": "text/x-python",
   "name": "python",
   "nbconvert_exporter": "python",
   "pygments_lexer": "ipython3",
   "version": "3.9.12"
  },
  "vscode": {
   "interpreter": {
    "hash": "6e810e7200372fd23cd10261f8024d9bdccd74affb79d3e642e44d1db551b95d"
   }
  }
 },
 "nbformat": 4,
 "nbformat_minor": 5
}
